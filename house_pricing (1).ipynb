{
  "nbformat": 4,
  "nbformat_minor": 0,
  "metadata": {
    "colab": {
      "name": "house_pricing.ipynb",
      "provenance": [],
      "collapsed_sections": []
    },
    "kernelspec": {
      "name": "python3",
      "display_name": "Python 3"
    },
    "language_info": {
      "name": "python"
    },
    "accelerator": "GPU"
  },
  "cells": [
    {
      "cell_type": "markdown",
      "metadata": {
        "id": "XQn4FN82PZ2n"
      },
      "source": [
        "kaggle \n",
        "\n",
        "https://www.kaggle.com/anmolkumar/house-price-prediction-challenge?select=test.csv"
      ]
    },
    {
      "cell_type": "code",
      "metadata": {
        "colab": {
          "base_uri": "https://localhost:8080/"
        },
        "id": "_0TSwkU5Jxaj",
        "outputId": "8cc47532-4447-4111-a565-50c5ba201761"
      },
      "source": [
        "from google.colab import drive\n",
        "drive.mount(\"/content/drive/\")"
      ],
      "execution_count": null,
      "outputs": [
        {
          "output_type": "stream",
          "name": "stdout",
          "text": [
            "Drive already mounted at /content/drive/; to attempt to forcibly remount, call drive.mount(\"/content/drive/\", force_remount=True).\n"
          ]
        }
      ]
    },
    {
      "cell_type": "code",
      "metadata": {
        "colab": {
          "base_uri": "https://localhost:8080/"
        },
        "id": "AbkBBtrdJ0uY",
        "outputId": "8e8d966a-230c-4e30-9812-b2b433b7ed3c"
      },
      "source": [
        "import pandas as pd\n",
        "df = pd.read_csv(\"/content/drive/MyDrive/dataset/train.csv.zip\")\n",
        "print(df.shape)"
      ],
      "execution_count": null,
      "outputs": [
        {
          "output_type": "stream",
          "name": "stdout",
          "text": [
            "(29451, 12)\n"
          ]
        }
      ]
    },
    {
      "cell_type": "code",
      "metadata": {
        "colab": {
          "base_uri": "https://localhost:8080/",
          "height": 275
        },
        "id": "R8bRVBv1KFax",
        "outputId": "c0d3d19a-9081-4829-dd77-a1e8b41a15a1"
      },
      "source": [
        "df.head()"
      ],
      "execution_count": null,
      "outputs": [
        {
          "output_type": "execute_result",
          "data": {
            "text/html": [
              "<div>\n",
              "<style scoped>\n",
              "    .dataframe tbody tr th:only-of-type {\n",
              "        vertical-align: middle;\n",
              "    }\n",
              "\n",
              "    .dataframe tbody tr th {\n",
              "        vertical-align: top;\n",
              "    }\n",
              "\n",
              "    .dataframe thead th {\n",
              "        text-align: right;\n",
              "    }\n",
              "</style>\n",
              "<table border=\"1\" class=\"dataframe\">\n",
              "  <thead>\n",
              "    <tr style=\"text-align: right;\">\n",
              "      <th></th>\n",
              "      <th>POSTED_BY</th>\n",
              "      <th>UNDER_CONSTRUCTION</th>\n",
              "      <th>RERA</th>\n",
              "      <th>BHK_NO.</th>\n",
              "      <th>BHK_OR_RK</th>\n",
              "      <th>SQUARE_FT</th>\n",
              "      <th>READY_TO_MOVE</th>\n",
              "      <th>RESALE</th>\n",
              "      <th>ADDRESS</th>\n",
              "      <th>LONGITUDE</th>\n",
              "      <th>LATITUDE</th>\n",
              "      <th>TARGET(PRICE_IN_LACS)</th>\n",
              "    </tr>\n",
              "  </thead>\n",
              "  <tbody>\n",
              "    <tr>\n",
              "      <th>0</th>\n",
              "      <td>Owner</td>\n",
              "      <td>0</td>\n",
              "      <td>0</td>\n",
              "      <td>2</td>\n",
              "      <td>BHK</td>\n",
              "      <td>1300.236407</td>\n",
              "      <td>1</td>\n",
              "      <td>1</td>\n",
              "      <td>Ksfc Layout,Bangalore</td>\n",
              "      <td>12.969910</td>\n",
              "      <td>77.597960</td>\n",
              "      <td>55.0</td>\n",
              "    </tr>\n",
              "    <tr>\n",
              "      <th>1</th>\n",
              "      <td>Dealer</td>\n",
              "      <td>0</td>\n",
              "      <td>0</td>\n",
              "      <td>2</td>\n",
              "      <td>BHK</td>\n",
              "      <td>1275.000000</td>\n",
              "      <td>1</td>\n",
              "      <td>1</td>\n",
              "      <td>Vishweshwara Nagar,Mysore</td>\n",
              "      <td>12.274538</td>\n",
              "      <td>76.644605</td>\n",
              "      <td>51.0</td>\n",
              "    </tr>\n",
              "    <tr>\n",
              "      <th>2</th>\n",
              "      <td>Owner</td>\n",
              "      <td>0</td>\n",
              "      <td>0</td>\n",
              "      <td>2</td>\n",
              "      <td>BHK</td>\n",
              "      <td>933.159722</td>\n",
              "      <td>1</td>\n",
              "      <td>1</td>\n",
              "      <td>Jigani,Bangalore</td>\n",
              "      <td>12.778033</td>\n",
              "      <td>77.632191</td>\n",
              "      <td>43.0</td>\n",
              "    </tr>\n",
              "    <tr>\n",
              "      <th>3</th>\n",
              "      <td>Owner</td>\n",
              "      <td>0</td>\n",
              "      <td>1</td>\n",
              "      <td>2</td>\n",
              "      <td>BHK</td>\n",
              "      <td>929.921143</td>\n",
              "      <td>1</td>\n",
              "      <td>1</td>\n",
              "      <td>Sector-1 Vaishali,Ghaziabad</td>\n",
              "      <td>28.642300</td>\n",
              "      <td>77.344500</td>\n",
              "      <td>62.5</td>\n",
              "    </tr>\n",
              "    <tr>\n",
              "      <th>4</th>\n",
              "      <td>Dealer</td>\n",
              "      <td>1</td>\n",
              "      <td>0</td>\n",
              "      <td>2</td>\n",
              "      <td>BHK</td>\n",
              "      <td>999.009247</td>\n",
              "      <td>0</td>\n",
              "      <td>1</td>\n",
              "      <td>New Town,Kolkata</td>\n",
              "      <td>22.592200</td>\n",
              "      <td>88.484911</td>\n",
              "      <td>60.5</td>\n",
              "    </tr>\n",
              "  </tbody>\n",
              "</table>\n",
              "</div>"
            ],
            "text/plain": [
              "  POSTED_BY  UNDER_CONSTRUCTION  ...   LATITUDE  TARGET(PRICE_IN_LACS)\n",
              "0     Owner                   0  ...  77.597960                   55.0\n",
              "1    Dealer                   0  ...  76.644605                   51.0\n",
              "2     Owner                   0  ...  77.632191                   43.0\n",
              "3     Owner                   0  ...  77.344500                   62.5\n",
              "4    Dealer                   1  ...  88.484911                   60.5\n",
              "\n",
              "[5 rows x 12 columns]"
            ]
          },
          "metadata": {},
          "execution_count": 4
        }
      ]
    },
    {
      "cell_type": "code",
      "metadata": {
        "colab": {
          "base_uri": "https://localhost:8080/"
        },
        "id": "UPNLUInIKI-P",
        "outputId": "1ef87d6a-9ddc-472f-a24c-201e473eac3b"
      },
      "source": [
        "df.dtypes"
      ],
      "execution_count": null,
      "outputs": [
        {
          "output_type": "execute_result",
          "data": {
            "text/plain": [
              "POSTED_BY                 object\n",
              "UNDER_CONSTRUCTION         int64\n",
              "RERA                       int64\n",
              "BHK_NO.                    int64\n",
              "BHK_OR_RK                 object\n",
              "SQUARE_FT                float64\n",
              "READY_TO_MOVE              int64\n",
              "RESALE                     int64\n",
              "ADDRESS                   object\n",
              "LONGITUDE                float64\n",
              "LATITUDE                 float64\n",
              "TARGET(PRICE_IN_LACS)    float64\n",
              "dtype: object"
            ]
          },
          "metadata": {},
          "execution_count": 5
        }
      ]
    },
    {
      "cell_type": "code",
      "metadata": {
        "colab": {
          "base_uri": "https://localhost:8080/"
        },
        "id": "mNUZ3LTfKMLq",
        "outputId": "6cef55fc-f62b-4c4f-d0ac-263d6db0c5d4"
      },
      "source": [
        "#no tiene valores nullos\n",
        "df.isnull().sum()"
      ],
      "execution_count": null,
      "outputs": [
        {
          "output_type": "execute_result",
          "data": {
            "text/plain": [
              "POSTED_BY                0\n",
              "UNDER_CONSTRUCTION       0\n",
              "RERA                     0\n",
              "BHK_NO.                  0\n",
              "BHK_OR_RK                0\n",
              "SQUARE_FT                0\n",
              "READY_TO_MOVE            0\n",
              "RESALE                   0\n",
              "ADDRESS                  0\n",
              "LONGITUDE                0\n",
              "LATITUDE                 0\n",
              "TARGET(PRICE_IN_LACS)    0\n",
              "dtype: int64"
            ]
          },
          "metadata": {},
          "execution_count": 6
        }
      ]
    },
    {
      "cell_type": "markdown",
      "metadata": {
        "id": "NU344pMzOiMl"
      },
      "source": [
        "Rename the columns"
      ]
    },
    {
      "cell_type": "code",
      "metadata": {
        "id": "sz7m2SwWz3yL"
      },
      "source": [
        "df = df.rename(columns={'BHK_NO.': 'NUMBER_OF_ROOMS', 'BHK_OR_RK': 'TYPE_OF_PROPETY', \"TARGET(PRICE_IN_LACS)\": \"TARGET\"})\n",
        "df[\"SQUARE_METERES\"] = df.SQUARE_FT/10.764\n",
        "df = df.drop(columns=[\"SQUARE_FT\"])"
      ],
      "execution_count": null,
      "outputs": []
    },
    {
      "cell_type": "code",
      "metadata": {
        "colab": {
          "base_uri": "https://localhost:8080/",
          "height": 275
        },
        "id": "dBfKM-y13SVY",
        "outputId": "ab1ddfc1-6d8b-4eb3-a6b4-cead3432e460"
      },
      "source": [
        "df.head()"
      ],
      "execution_count": null,
      "outputs": [
        {
          "output_type": "execute_result",
          "data": {
            "text/html": [
              "<div>\n",
              "<style scoped>\n",
              "    .dataframe tbody tr th:only-of-type {\n",
              "        vertical-align: middle;\n",
              "    }\n",
              "\n",
              "    .dataframe tbody tr th {\n",
              "        vertical-align: top;\n",
              "    }\n",
              "\n",
              "    .dataframe thead th {\n",
              "        text-align: right;\n",
              "    }\n",
              "</style>\n",
              "<table border=\"1\" class=\"dataframe\">\n",
              "  <thead>\n",
              "    <tr style=\"text-align: right;\">\n",
              "      <th></th>\n",
              "      <th>POSTED_BY</th>\n",
              "      <th>UNDER_CONSTRUCTION</th>\n",
              "      <th>RERA</th>\n",
              "      <th>NUMBER_OF_ROOMS</th>\n",
              "      <th>TYPE_OF_PROPETY</th>\n",
              "      <th>READY_TO_MOVE</th>\n",
              "      <th>RESALE</th>\n",
              "      <th>ADDRESS</th>\n",
              "      <th>LONGITUDE</th>\n",
              "      <th>LATITUDE</th>\n",
              "      <th>TARGET</th>\n",
              "      <th>SQUARE_METERES</th>\n",
              "    </tr>\n",
              "  </thead>\n",
              "  <tbody>\n",
              "    <tr>\n",
              "      <th>0</th>\n",
              "      <td>Owner</td>\n",
              "      <td>0</td>\n",
              "      <td>0</td>\n",
              "      <td>2</td>\n",
              "      <td>BHK</td>\n",
              "      <td>1</td>\n",
              "      <td>1</td>\n",
              "      <td>Ksfc Layout,Bangalore</td>\n",
              "      <td>12.969910</td>\n",
              "      <td>77.597960</td>\n",
              "      <td>55.0</td>\n",
              "      <td>120.794910</td>\n",
              "    </tr>\n",
              "    <tr>\n",
              "      <th>1</th>\n",
              "      <td>Dealer</td>\n",
              "      <td>0</td>\n",
              "      <td>0</td>\n",
              "      <td>2</td>\n",
              "      <td>BHK</td>\n",
              "      <td>1</td>\n",
              "      <td>1</td>\n",
              "      <td>Vishweshwara Nagar,Mysore</td>\n",
              "      <td>12.274538</td>\n",
              "      <td>76.644605</td>\n",
              "      <td>51.0</td>\n",
              "      <td>118.450390</td>\n",
              "    </tr>\n",
              "    <tr>\n",
              "      <th>2</th>\n",
              "      <td>Owner</td>\n",
              "      <td>0</td>\n",
              "      <td>0</td>\n",
              "      <td>2</td>\n",
              "      <td>BHK</td>\n",
              "      <td>1</td>\n",
              "      <td>1</td>\n",
              "      <td>Jigani,Bangalore</td>\n",
              "      <td>12.778033</td>\n",
              "      <td>77.632191</td>\n",
              "      <td>43.0</td>\n",
              "      <td>86.692653</td>\n",
              "    </tr>\n",
              "    <tr>\n",
              "      <th>3</th>\n",
              "      <td>Owner</td>\n",
              "      <td>0</td>\n",
              "      <td>1</td>\n",
              "      <td>2</td>\n",
              "      <td>BHK</td>\n",
              "      <td>1</td>\n",
              "      <td>1</td>\n",
              "      <td>Sector-1 Vaishali,Ghaziabad</td>\n",
              "      <td>28.642300</td>\n",
              "      <td>77.344500</td>\n",
              "      <td>62.5</td>\n",
              "      <td>86.391782</td>\n",
              "    </tr>\n",
              "    <tr>\n",
              "      <th>4</th>\n",
              "      <td>Dealer</td>\n",
              "      <td>1</td>\n",
              "      <td>0</td>\n",
              "      <td>2</td>\n",
              "      <td>BHK</td>\n",
              "      <td>0</td>\n",
              "      <td>1</td>\n",
              "      <td>New Town,Kolkata</td>\n",
              "      <td>22.592200</td>\n",
              "      <td>88.484911</td>\n",
              "      <td>60.5</td>\n",
              "      <td>92.810224</td>\n",
              "    </tr>\n",
              "  </tbody>\n",
              "</table>\n",
              "</div>"
            ],
            "text/plain": [
              "  POSTED_BY  UNDER_CONSTRUCTION  RERA  ...   LATITUDE TARGET  SQUARE_METERES\n",
              "0     Owner                   0     0  ...  77.597960   55.0      120.794910\n",
              "1    Dealer                   0     0  ...  76.644605   51.0      118.450390\n",
              "2     Owner                   0     0  ...  77.632191   43.0       86.692653\n",
              "3     Owner                   0     1  ...  77.344500   62.5       86.391782\n",
              "4    Dealer                   1     0  ...  88.484911   60.5       92.810224\n",
              "\n",
              "[5 rows x 12 columns]"
            ]
          },
          "metadata": {},
          "execution_count": 8
        }
      ]
    },
    {
      "cell_type": "markdown",
      "metadata": {
        "id": "e8wPeUNaNabp"
      },
      "source": [
        "EDA"
      ]
    },
    {
      "cell_type": "code",
      "metadata": {
        "colab": {
          "base_uri": "https://localhost:8080/",
          "height": 297
        },
        "id": "ypPUBNQ1NbQs",
        "outputId": "6fb661b9-4081-4590-d860-5af80b81dab1"
      },
      "source": [
        "import seaborn as sns\n",
        "sns.countplot(x=\"POSTED_BY\", data = df )"
      ],
      "execution_count": null,
      "outputs": [
        {
          "output_type": "execute_result",
          "data": {
            "text/plain": [
              "<matplotlib.axes._subplots.AxesSubplot at 0x7f6a512bc5d0>"
            ]
          },
          "metadata": {},
          "execution_count": 9
        },
        {
          "output_type": "display_data",
          "data": {
            "image/png": "[encoded data removed]",
            "text/plain": [
              "<Figure size 432x288 with 1 Axes>"
            ]
          },
          "metadata": {
            "needs_background": "light"
          }
        }
      ]
    },
    {
      "cell_type": "code",
      "metadata": {
        "colab": {
          "base_uri": "https://localhost:8080/",
          "height": 406
        },
        "id": "LeC4qSza4BDo",
        "outputId": "3fa5ba61-5e79-4eff-ed79-ebd84da23f59"
      },
      "source": [
        "import matplotlib.pyplot as plt\n",
        "fig = plt.gcf()\n",
        "fig.set_size_inches(6,6)\n",
        "sns.countplot(x= \"UNDER_CONSTRUCTION\", data = df)"
      ],
      "execution_count": null,
      "outputs": [
        {
          "output_type": "execute_result",
          "data": {
            "text/plain": [
              "<matplotlib.axes._subplots.AxesSubplot at 0x7f6a50b9ca90>"
            ]
          },
          "metadata": {},
          "execution_count": 10
        },
        {
          "output_type": "display_data",
          "data": {
            "image/png": "[encoded data removed]",
            "text/plain": [
              "<Figure size 432x432 with 1 Axes>"
            ]
          },
          "metadata": {
            "needs_background": "light"
          }
        }
      ]
    },
    {
      "cell_type": "code",
      "metadata": {
        "colab": {
          "base_uri": "https://localhost:8080/",
          "height": 378
        },
        "id": "XZmGV6cwevp4",
        "outputId": "9ae4d837-bc7e-4f8a-83c0-c0dfae661714"
      },
      "source": [
        "plt.figure(figsize=(15,5))\n",
        "df.ADDRESS = df.ADDRESS.apply(lambda x: x.split(',')[-1])\n",
        "df.ADDRESS.value_counts()[:20].plot(kind='bar',color='navy')\n",
        "plt.show()"
      ],
      "execution_count": null,
      "outputs": [
        {
          "output_type": "display_data",
          "data": {
            "image/png": "[encoded data removed]",
            "text/plain": [
              "<Figure size 1080x360 with 1 Axes>"
            ]
          },
          "metadata": {
            "needs_background": "light"
          }
        }
      ]
    },
    {
      "cell_type": "code",
      "metadata": {
        "colab": {
          "base_uri": "https://localhost:8080/",
          "height": 371
        },
        "id": "gMmrXfKM7LN6",
        "outputId": "a4c63855-43d2-403d-8993-a92f57e23c12"
      },
      "source": [
        "# tenemos outliers\n",
        "print(df[\"NUMBER_OF_ROOMS\"].value_counts()[:5].sort_values(ascending=True))\n",
        "sns.boxenplot(y = df[\"NUMBER_OF_ROOMS\"])"
      ],
      "execution_count": null,
      "outputs": [
        {
          "output_type": "stream",
          "name": "stdout",
          "text": [
            "5      190\n",
            "4     1723\n",
            "1     3574\n",
            "3    10546\n",
            "2    13324\n",
            "Name: NUMBER_OF_ROOMS, dtype: int64\n"
          ]
        },
        {
          "output_type": "execute_result",
          "data": {
            "text/plain": [
              "<matplotlib.axes._subplots.AxesSubplot at 0x7f6a505ab750>"
            ]
          },
          "metadata": {},
          "execution_count": 12
        },
        {
          "output_type": "display_data",
          "data": {
            "image/png": "[encoded data removed]",
            "text/plain": [
              "<Figure size 432x288 with 1 Axes>"
            ]
          },
          "metadata": {
            "needs_background": "light"
          }
        }
      ]
    },
    {
      "cell_type": "code",
      "metadata": {
        "id": "NJJgwwyu74DA"
      },
      "source": [
        "#quitamos los outliers\n",
        "df = df[df.NUMBER_OF_ROOMS < 9]"
      ],
      "execution_count": null,
      "outputs": []
    },
    {
      "cell_type": "code",
      "metadata": {
        "colab": {
          "base_uri": "https://localhost:8080/"
        },
        "id": "hAwvNCeG_0Y0",
        "outputId": "e5439dce-5b0f-4f32-b60c-ce5b288c750a"
      },
      "source": [
        "df.dtypes"
      ],
      "execution_count": null,
      "outputs": [
        {
          "output_type": "execute_result",
          "data": {
            "text/plain": [
              "POSTED_BY              object\n",
              "UNDER_CONSTRUCTION      int64\n",
              "RERA                    int64\n",
              "NUMBER_OF_ROOMS         int64\n",
              "TYPE_OF_PROPETY        object\n",
              "READY_TO_MOVE           int64\n",
              "RESALE                  int64\n",
              "ADDRESS                object\n",
              "LONGITUDE             float64\n",
              "LATITUDE              float64\n",
              "TARGET                float64\n",
              "SQUARE_METERES        float64\n",
              "dtype: object"
            ]
          },
          "metadata": {},
          "execution_count": 14
        }
      ]
    },
    {
      "cell_type": "code",
      "metadata": {
        "colab": {
          "base_uri": "https://localhost:8080/",
          "height": 348
        },
        "id": "SgkNMSOc_BlD",
        "outputId": "d01683db-917b-4693-e95c-fb27b4849661"
      },
      "source": [
        "# aqui vemos los coeficientes de correlacion\n",
        "#que nos indican que tanto estan relacionados una variable con respecto a la otra\n",
        "corr = df.corr()\n",
        "corr.style.background_gradient(cmap='Blues')"
      ],
      "execution_count": null,
      "outputs": [
        {
          "output_type": "execute_result",
          "data": {
            "text/html": [
              "<style  type=\"text/css\" >\n",
              "    #T_a31d4b36_3ced_11ec_8970_0242ac1c0002row0_col0 {\n",
              "            background-color:  #08306b;\n",
              "            color:  #f1f1f1;\n",
              "        }    #T_a31d4b36_3ced_11ec_8970_0242ac1c0002row0_col1 {\n",
              "            background-color:  #60a7d2;\n",
              "            color:  #000000;\n",
              "        }    #T_a31d4b36_3ced_11ec_8970_0242ac1c0002row0_col2 {\n",
              "            background-color:  #f7fbff;\n",
              "            color:  #000000;\n",
              "        }    #T_a31d4b36_3ced_11ec_8970_0242ac1c0002row0_col3 {\n",
              "            background-color:  #f7fbff;\n",
              "            color:  #000000;\n",
              "        }    #T_a31d4b36_3ced_11ec_8970_0242ac1c0002row0_col4 {\n",
              "            background-color:  #f7fbff;\n",
              "            color:  #000000;\n",
              "        }    #T_a31d4b36_3ced_11ec_8970_0242ac1c0002row0_col5 {\n",
              "            background-color:  #dce9f6;\n",
              "            color:  #000000;\n",
              "        }    #T_a31d4b36_3ced_11ec_8970_0242ac1c0002row0_col6 {\n",
              "            background-color:  #dceaf6;\n",
              "            color:  #000000;\n",
              "        }    #T_a31d4b36_3ced_11ec_8970_0242ac1c0002row0_col7 {\n",
              "            background-color:  #cddff1;\n",
              "            color:  #000000;\n",
              "        }    #T_a31d4b36_3ced_11ec_8970_0242ac1c0002row0_col8 {\n",
              "            background-color:  #f5fafe;\n",
              "            color:  #000000;\n",
              "        }    #T_a31d4b36_3ced_11ec_8970_0242ac1c0002row1_col0 {\n",
              "            background-color:  #3383be;\n",
              "            color:  #000000;\n",
              "        }    #T_a31d4b36_3ced_11ec_8970_0242ac1c0002row1_col1 {\n",
              "            background-color:  #08306b;\n",
              "            color:  #f1f1f1;\n",
              "        }    #T_a31d4b36_3ced_11ec_8970_0242ac1c0002row1_col2 {\n",
              "            background-color:  #ecf4fb;\n",
              "            color:  #000000;\n",
              "        }    #T_a31d4b36_3ced_11ec_8970_0242ac1c0002row1_col3 {\n",
              "            background-color:  #b0d2e7;\n",
              "            color:  #000000;\n",
              "        }    #T_a31d4b36_3ced_11ec_8970_0242ac1c0002row1_col4 {\n",
              "            background-color:  #ecf4fb;\n",
              "            color:  #000000;\n",
              "        }    #T_a31d4b36_3ced_11ec_8970_0242ac1c0002row1_col5 {\n",
              "            background-color:  #cbdef1;\n",
              "            color:  #000000;\n",
              "        }    #T_a31d4b36_3ced_11ec_8970_0242ac1c0002row1_col6 {\n",
              "            background-color:  #e8f1fa;\n",
              "            color:  #000000;\n",
              "        }    #T_a31d4b36_3ced_11ec_8970_0242ac1c0002row1_col7 {\n",
              "            background-color:  #cadef0;\n",
              "            color:  #000000;\n",
              "        }    #T_a31d4b36_3ced_11ec_8970_0242ac1c0002row1_col8 {\n",
              "            background-color:  #f6faff;\n",
              "            color:  #000000;\n",
              "        }    #T_a31d4b36_3ced_11ec_8970_0242ac1c0002row2_col0 {\n",
              "            background-color:  #74b3d8;\n",
              "            color:  #000000;\n",
              "        }    #T_a31d4b36_3ced_11ec_8970_0242ac1c0002row2_col1 {\n",
              "            background-color:  #bdd7ec;\n",
              "            color:  #000000;\n",
              "        }    #T_a31d4b36_3ced_11ec_8970_0242ac1c0002row2_col2 {\n",
              "            background-color:  #08306b;\n",
              "            color:  #f1f1f1;\n",
              "        }    #T_a31d4b36_3ced_11ec_8970_0242ac1c0002row2_col3 {\n",
              "            background-color:  #64a9d3;\n",
              "            color:  #000000;\n",
              "        }    #T_a31d4b36_3ced_11ec_8970_0242ac1c0002row2_col4 {\n",
              "            background-color:  #c1d9ed;\n",
              "            color:  #000000;\n",
              "        }    #T_a31d4b36_3ced_11ec_8970_0242ac1c0002row2_col5 {\n",
              "            background-color:  #cfe1f2;\n",
              "            color:  #000000;\n",
              "        }    #T_a31d4b36_3ced_11ec_8970_0242ac1c0002row2_col6 {\n",
              "            background-color:  #d4e4f4;\n",
              "            color:  #000000;\n",
              "        }    #T_a31d4b36_3ced_11ec_8970_0242ac1c0002row2_col7 {\n",
              "            background-color:  #c1d9ed;\n",
              "            color:  #000000;\n",
              "        }    #T_a31d4b36_3ced_11ec_8970_0242ac1c0002row2_col8 {\n",
              "            background-color:  #f4f9fe;\n",
              "            color:  #000000;\n",
              "        }    #T_a31d4b36_3ced_11ec_8970_0242ac1c0002row3_col0 {\n",
              "            background-color:  #f7fbff;\n",
              "            color:  #000000;\n",
              "        }    #T_a31d4b36_3ced_11ec_8970_0242ac1c0002row3_col1 {\n",
              "            background-color:  #f7fbff;\n",
              "            color:  #000000;\n",
              "        }    #T_a31d4b36_3ced_11ec_8970_0242ac1c0002row3_col2 {\n",
              "            background-color:  #e7f1fa;\n",
              "            color:  #000000;\n",
              "        }    #T_a31d4b36_3ced_11ec_8970_0242ac1c0002row3_col3 {\n",
              "            background-color:  #08306b;\n",
              "            color:  #f1f1f1;\n",
              "        }    #T_a31d4b36_3ced_11ec_8970_0242ac1c0002row3_col4 {\n",
              "            background-color:  #65aad4;\n",
              "            color:  #000000;\n",
              "        }    #T_a31d4b36_3ced_11ec_8970_0242ac1c0002row3_col5 {\n",
              "            background-color:  #deebf7;\n",
              "            color:  #000000;\n",
              "        }    #T_a31d4b36_3ced_11ec_8970_0242ac1c0002row3_col6 {\n",
              "            background-color:  #dceaf6;\n",
              "            color:  #000000;\n",
              "        }    #T_a31d4b36_3ced_11ec_8970_0242ac1c0002row3_col7 {\n",
              "            background-color:  #deebf7;\n",
              "            color:  #000000;\n",
              "        }    #T_a31d4b36_3ced_11ec_8970_0242ac1c0002row3_col8 {\n",
              "            background-color:  #f4f9fe;\n",
              "            color:  #000000;\n",
              "        }    #T_a31d4b36_3ced_11ec_8970_0242ac1c0002row4_col0 {\n",
              "            background-color:  #aed1e7;\n",
              "            color:  #000000;\n",
              "        }    #T_a31d4b36_3ced_11ec_8970_0242ac1c0002row4_col1 {\n",
              "            background-color:  #eaf2fb;\n",
              "            color:  #000000;\n",
              "        }    #T_a31d4b36_3ced_11ec_8970_0242ac1c0002row4_col2 {\n",
              "            background-color:  #edf4fc;\n",
              "            color:  #000000;\n",
              "        }    #T_a31d4b36_3ced_11ec_8970_0242ac1c0002row4_col3 {\n",
              "            background-color:  #3585bf;\n",
              "            color:  #000000;\n",
              "        }    #T_a31d4b36_3ced_11ec_8970_0242ac1c0002row4_col4 {\n",
              "            background-color:  #08306b;\n",
              "            color:  #f1f1f1;\n",
              "        }    #T_a31d4b36_3ced_11ec_8970_0242ac1c0002row4_col5 {\n",
              "            background-color:  #d9e7f5;\n",
              "            color:  #000000;\n",
              "        }    #T_a31d4b36_3ced_11ec_8970_0242ac1c0002row4_col6 {\n",
              "            background-color:  #dae8f6;\n",
              "            color:  #000000;\n",
              "        }    #T_a31d4b36_3ced_11ec_8970_0242ac1c0002row4_col7 {\n",
              "            background-color:  #f7fbff;\n",
              "            color:  #000000;\n",
              "        }    #T_a31d4b36_3ced_11ec_8970_0242ac1c0002row4_col8 {\n",
              "            background-color:  #f5f9fe;\n",
              "            color:  #000000;\n",
              "        }    #T_a31d4b36_3ced_11ec_8970_0242ac1c0002row5_col0 {\n",
              "            background-color:  #6aaed6;\n",
              "            color:  #000000;\n",
              "        }    #T_a31d4b36_3ced_11ec_8970_0242ac1c0002row5_col1 {\n",
              "            background-color:  #a9cfe5;\n",
              "            color:  #000000;\n",
              "        }    #T_a31d4b36_3ced_11ec_8970_0242ac1c0002row5_col2 {\n",
              "            background-color:  #dfecf7;\n",
              "            color:  #000000;\n",
              "        }    #T_a31d4b36_3ced_11ec_8970_0242ac1c0002row5_col3 {\n",
              "            background-color:  #6caed6;\n",
              "            color:  #000000;\n",
              "        }    #T_a31d4b36_3ced_11ec_8970_0242ac1c0002row5_col4 {\n",
              "            background-color:  #bed8ec;\n",
              "            color:  #000000;\n",
              "        }    #T_a31d4b36_3ced_11ec_8970_0242ac1c0002row5_col5 {\n",
              "            background-color:  #08306b;\n",
              "            color:  #f1f1f1;\n",
              "        }    #T_a31d4b36_3ced_11ec_8970_0242ac1c0002row5_col6 {\n",
              "            background-color:  #f7fbff;\n",
              "            color:  #000000;\n",
              "        }    #T_a31d4b36_3ced_11ec_8970_0242ac1c0002row5_col7 {\n",
              "            background-color:  #dae8f6;\n",
              "            color:  #000000;\n",
              "        }    #T_a31d4b36_3ced_11ec_8970_0242ac1c0002row5_col8 {\n",
              "            background-color:  #f7fbff;\n",
              "            color:  #000000;\n",
              "        }    #T_a31d4b36_3ced_11ec_8970_0242ac1c0002row6_col0 {\n",
              "            background-color:  #6caed6;\n",
              "            color:  #000000;\n",
              "        }    #T_a31d4b36_3ced_11ec_8970_0242ac1c0002row6_col1 {\n",
              "            background-color:  #ccdff1;\n",
              "            color:  #000000;\n",
              "        }    #T_a31d4b36_3ced_11ec_8970_0242ac1c0002row6_col2 {\n",
              "            background-color:  #e6f0f9;\n",
              "            color:  #000000;\n",
              "        }    #T_a31d4b36_3ced_11ec_8970_0242ac1c0002row6_col3 {\n",
              "            background-color:  #6aaed6;\n",
              "            color:  #000000;\n",
              "        }    #T_a31d4b36_3ced_11ec_8970_0242ac1c0002row6_col4 {\n",
              "            background-color:  #c1d9ed;\n",
              "            color:  #000000;\n",
              "        }    #T_a31d4b36_3ced_11ec_8970_0242ac1c0002row6_col5 {\n",
              "            background-color:  #f7fbff;\n",
              "            color:  #000000;\n",
              "        }    #T_a31d4b36_3ced_11ec_8970_0242ac1c0002row6_col6 {\n",
              "            background-color:  #08306b;\n",
              "            color:  #f1f1f1;\n",
              "        }    #T_a31d4b36_3ced_11ec_8970_0242ac1c0002row6_col7 {\n",
              "            background-color:  #d8e7f5;\n",
              "            color:  #000000;\n",
              "        }    #T_a31d4b36_3ced_11ec_8970_0242ac1c0002row6_col8 {\n",
              "            background-color:  #f5f9fe;\n",
              "            color:  #000000;\n",
              "        }    #T_a31d4b36_3ced_11ec_8970_0242ac1c0002row7_col0 {\n",
              "            background-color:  #61a7d2;\n",
              "            color:  #000000;\n",
              "        }    #T_a31d4b36_3ced_11ec_8970_0242ac1c0002row7_col1 {\n",
              "            background-color:  #b0d2e7;\n",
              "            color:  #000000;\n",
              "        }    #T_a31d4b36_3ced_11ec_8970_0242ac1c0002row7_col2 {\n",
              "            background-color:  #d9e8f5;\n",
              "            color:  #000000;\n",
              "        }    #T_a31d4b36_3ced_11ec_8970_0242ac1c0002row7_col3 {\n",
              "            background-color:  #77b5d9;\n",
              "            color:  #000000;\n",
              "        }    #T_a31d4b36_3ced_11ec_8970_0242ac1c0002row7_col4 {\n",
              "            background-color:  #e3eef8;\n",
              "            color:  #000000;\n",
              "        }    #T_a31d4b36_3ced_11ec_8970_0242ac1c0002row7_col5 {\n",
              "            background-color:  #e2edf8;\n",
              "            color:  #000000;\n",
              "        }    #T_a31d4b36_3ced_11ec_8970_0242ac1c0002row7_col6 {\n",
              "            background-color:  #dfecf7;\n",
              "            color:  #000000;\n",
              "        }    #T_a31d4b36_3ced_11ec_8970_0242ac1c0002row7_col7 {\n",
              "            background-color:  #08306b;\n",
              "            color:  #f1f1f1;\n",
              "        }    #T_a31d4b36_3ced_11ec_8970_0242ac1c0002row7_col8 {\n",
              "            background-color:  #8fc2de;\n",
              "            color:  #000000;\n",
              "        }    #T_a31d4b36_3ced_11ec_8970_0242ac1c0002row8_col0 {\n",
              "            background-color:  #6caed6;\n",
              "            color:  #000000;\n",
              "        }    #T_a31d4b36_3ced_11ec_8970_0242ac1c0002row8_col1 {\n",
              "            background-color:  #c2d9ee;\n",
              "            color:  #000000;\n",
              "        }    #T_a31d4b36_3ced_11ec_8970_0242ac1c0002row8_col2 {\n",
              "            background-color:  #eef5fc;\n",
              "            color:  #000000;\n",
              "        }    #T_a31d4b36_3ced_11ec_8970_0242ac1c0002row8_col3 {\n",
              "            background-color:  #6aaed6;\n",
              "            color:  #000000;\n",
              "        }    #T_a31d4b36_3ced_11ec_8970_0242ac1c0002row8_col4 {\n",
              "            background-color:  #c3daee;\n",
              "            color:  #000000;\n",
              "        }    #T_a31d4b36_3ced_11ec_8970_0242ac1c0002row8_col5 {\n",
              "            background-color:  #dfebf7;\n",
              "            color:  #000000;\n",
              "        }    #T_a31d4b36_3ced_11ec_8970_0242ac1c0002row8_col6 {\n",
              "            background-color:  #dceaf6;\n",
              "            color:  #000000;\n",
              "        }    #T_a31d4b36_3ced_11ec_8970_0242ac1c0002row8_col7 {\n",
              "            background-color:  #69add5;\n",
              "            color:  #000000;\n",
              "        }    #T_a31d4b36_3ced_11ec_8970_0242ac1c0002row8_col8 {\n",
              "            background-color:  #08306b;\n",
              "            color:  #f1f1f1;\n",
              "        }</style><table id=\"T_a31d4b36_3ced_11ec_8970_0242ac1c0002\" class=\"dataframe\"><thead>    <tr>        <th class=\"blank level0\" ></th>        <th class=\"col_heading level0 col0\" >UNDER_CONSTRUCTION</th>        <th class=\"col_heading level0 col1\" >RERA</th>        <th class=\"col_heading level0 col2\" >NUMBER_OF_ROOMS</th>        <th class=\"col_heading level0 col3\" >READY_TO_MOVE</th>        <th class=\"col_heading level0 col4\" >RESALE</th>        <th class=\"col_heading level0 col5\" >LONGITUDE</th>        <th class=\"col_heading level0 col6\" >LATITUDE</th>        <th class=\"col_heading level0 col7\" >TARGET</th>        <th class=\"col_heading level0 col8\" >SQUARE_METERES</th>    </tr></thead><tbody>\n",
              "                <tr>\n",
              "                        <th id=\"T_a31d4b36_3ced_11ec_8970_0242ac1c0002level0_row0\" class=\"row_heading level0 row0\" >UNDER_CONSTRUCTION</th>\n",
              "                        <td id=\"T_a31d4b36_3ced_11ec_8970_0242ac1c0002row0_col0\" class=\"data row0 col0\" >1.000000</td>\n",
              "                        <td id=\"T_a31d4b36_3ced_11ec_8970_0242ac1c0002row0_col1\" class=\"data row0 col1\" >0.363948</td>\n",
              "                        <td id=\"T_a31d4b36_3ced_11ec_8970_0242ac1c0002row0_col2\" class=\"data row0 col2\" >-0.042731</td>\n",
              "                        <td id=\"T_a31d4b36_3ced_11ec_8970_0242ac1c0002row0_col3\" class=\"data row0 col3\" >-1.000000</td>\n",
              "                        <td id=\"T_a31d4b36_3ced_11ec_8970_0242ac1c0002row0_col4\" class=\"data row0 col4\" >-0.347499</td>\n",
              "                        <td id=\"T_a31d4b36_3ced_11ec_8970_0242ac1c0002row0_col5\" class=\"data row0 col5\" >0.006537</td>\n",
              "                        <td id=\"T_a31d4b36_3ced_11ec_8970_0242ac1c0002row0_col6\" class=\"data row0 col6\" >-0.000345</td>\n",
              "                        <td id=\"T_a31d4b36_3ced_11ec_8970_0242ac1c0002row0_col7\" class=\"data row0 col7\" >0.055498</td>\n",
              "                        <td id=\"T_a31d4b36_3ced_11ec_8970_0242ac1c0002row0_col8\" class=\"data row0 col8\" >-0.004205</td>\n",
              "            </tr>\n",
              "            <tr>\n",
              "                        <th id=\"T_a31d4b36_3ced_11ec_8970_0242ac1c0002level0_row1\" class=\"row_heading level0 row1\" >RERA</th>\n",
              "                        <td id=\"T_a31d4b36_3ced_11ec_8970_0242ac1c0002row1_col0\" class=\"data row1 col0\" >0.363948</td>\n",
              "                        <td id=\"T_a31d4b36_3ced_11ec_8970_0242ac1c0002row1_col1\" class=\"data row1 col1\" >1.000000</td>\n",
              "                        <td id=\"T_a31d4b36_3ced_11ec_8970_0242ac1c0002row1_col2\" class=\"data row1 col2\" >0.016834</td>\n",
              "                        <td id=\"T_a31d4b36_3ced_11ec_8970_0242ac1c0002row1_col3\" class=\"data row1 col3\" >-0.363948</td>\n",
              "                        <td id=\"T_a31d4b36_3ced_11ec_8970_0242ac1c0002row1_col4\" class=\"data row1 col4\" >-0.270269</td>\n",
              "                        <td id=\"T_a31d4b36_3ced_11ec_8970_0242ac1c0002row1_col5\" class=\"data row1 col5\" >0.104710</td>\n",
              "                        <td id=\"T_a31d4b36_3ced_11ec_8970_0242ac1c0002row1_col6\" class=\"data row1 col6\" >-0.065036</td>\n",
              "                        <td id=\"T_a31d4b36_3ced_11ec_8970_0242ac1c0002row1_col7\" class=\"data row1 col7\" >0.067831</td>\n",
              "                        <td id=\"T_a31d4b36_3ced_11ec_8970_0242ac1c0002row1_col8\" class=\"data row1 col8\" >-0.006233</td>\n",
              "            </tr>\n",
              "            <tr>\n",
              "                        <th id=\"T_a31d4b36_3ced_11ec_8970_0242ac1c0002level0_row2\" class=\"row_heading level0 row2\" >NUMBER_OF_ROOMS</th>\n",
              "                        <td id=\"T_a31d4b36_3ced_11ec_8970_0242ac1c0002row2_col0\" class=\"data row2 col0\" >-0.042731</td>\n",
              "                        <td id=\"T_a31d4b36_3ced_11ec_8970_0242ac1c0002row2_col1\" class=\"data row2 col1\" >0.016834</td>\n",
              "                        <td id=\"T_a31d4b36_3ced_11ec_8970_0242ac1c0002row2_col2\" class=\"data row2 col2\" >1.000000</td>\n",
              "                        <td id=\"T_a31d4b36_3ced_11ec_8970_0242ac1c0002row2_col3\" class=\"data row2 col3\" >0.042731</td>\n",
              "                        <td id=\"T_a31d4b36_3ced_11ec_8970_0242ac1c0002row2_col4\" class=\"data row2 col4\" >0.012953</td>\n",
              "                        <td id=\"T_a31d4b36_3ced_11ec_8970_0242ac1c0002row2_col5\" class=\"data row2 col5\" >0.080219</td>\n",
              "                        <td id=\"T_a31d4b36_3ced_11ec_8970_0242ac1c0002row2_col6\" class=\"data row2 col6\" >0.048627</td>\n",
              "                        <td id=\"T_a31d4b36_3ced_11ec_8970_0242ac1c0002row2_col7\" class=\"data row2 col7\" >0.115882</td>\n",
              "                        <td id=\"T_a31d4b36_3ced_11ec_8970_0242ac1c0002row2_col8\" class=\"data row2 col8\" >0.005736</td>\n",
              "            </tr>\n",
              "            <tr>\n",
              "                        <th id=\"T_a31d4b36_3ced_11ec_8970_0242ac1c0002level0_row3\" class=\"row_heading level0 row3\" >READY_TO_MOVE</th>\n",
              "                        <td id=\"T_a31d4b36_3ced_11ec_8970_0242ac1c0002row3_col0\" class=\"data row3 col0\" >-1.000000</td>\n",
              "                        <td id=\"T_a31d4b36_3ced_11ec_8970_0242ac1c0002row3_col1\" class=\"data row3 col1\" >-0.363948</td>\n",
              "                        <td id=\"T_a31d4b36_3ced_11ec_8970_0242ac1c0002row3_col2\" class=\"data row3 col2\" >0.042731</td>\n",
              "                        <td id=\"T_a31d4b36_3ced_11ec_8970_0242ac1c0002row3_col3\" class=\"data row3 col3\" >1.000000</td>\n",
              "                        <td id=\"T_a31d4b36_3ced_11ec_8970_0242ac1c0002row3_col4\" class=\"data row3 col4\" >0.347499</td>\n",
              "                        <td id=\"T_a31d4b36_3ced_11ec_8970_0242ac1c0002row3_col5\" class=\"data row3 col5\" >-0.006537</td>\n",
              "                        <td id=\"T_a31d4b36_3ced_11ec_8970_0242ac1c0002row3_col6\" class=\"data row3 col6\" >0.000345</td>\n",
              "                        <td id=\"T_a31d4b36_3ced_11ec_8970_0242ac1c0002row3_col7\" class=\"data row3 col7\" >-0.055498</td>\n",
              "                        <td id=\"T_a31d4b36_3ced_11ec_8970_0242ac1c0002row3_col8\" class=\"data row3 col8\" >0.004205</td>\n",
              "            </tr>\n",
              "            <tr>\n",
              "                        <th id=\"T_a31d4b36_3ced_11ec_8970_0242ac1c0002level0_row4\" class=\"row_heading level0 row4\" >RESALE</th>\n",
              "                        <td id=\"T_a31d4b36_3ced_11ec_8970_0242ac1c0002row4_col0\" class=\"data row4 col0\" >-0.347499</td>\n",
              "                        <td id=\"T_a31d4b36_3ced_11ec_8970_0242ac1c0002row4_col1\" class=\"data row4 col1\" >-0.270269</td>\n",
              "                        <td id=\"T_a31d4b36_3ced_11ec_8970_0242ac1c0002row4_col2\" class=\"data row4 col2\" >0.012953</td>\n",
              "                        <td id=\"T_a31d4b36_3ced_11ec_8970_0242ac1c0002row4_col3\" class=\"data row4 col3\" >0.347499</td>\n",
              "                        <td id=\"T_a31d4b36_3ced_11ec_8970_0242ac1c0002row4_col4\" class=\"data row4 col4\" >1.000000</td>\n",
              "                        <td id=\"T_a31d4b36_3ced_11ec_8970_0242ac1c0002row4_col5\" class=\"data row4 col5\" >0.024180</td>\n",
              "                        <td id=\"T_a31d4b36_3ced_11ec_8970_0242ac1c0002row4_col6\" class=\"data row4 col6\" >0.014811</td>\n",
              "                        <td id=\"T_a31d4b36_3ced_11ec_8970_0242ac1c0002row4_col7\" class=\"data row4 col7\" >-0.207491</td>\n",
              "                        <td id=\"T_a31d4b36_3ced_11ec_8970_0242ac1c0002row4_col8\" class=\"data row4 col8\" >0.001733</td>\n",
              "            </tr>\n",
              "            <tr>\n",
              "                        <th id=\"T_a31d4b36_3ced_11ec_8970_0242ac1c0002level0_row5\" class=\"row_heading level0 row5\" >LONGITUDE</th>\n",
              "                        <td id=\"T_a31d4b36_3ced_11ec_8970_0242ac1c0002row5_col0\" class=\"data row5 col0\" >0.006537</td>\n",
              "                        <td id=\"T_a31d4b36_3ced_11ec_8970_0242ac1c0002row5_col1\" class=\"data row5 col1\" >0.104710</td>\n",
              "                        <td id=\"T_a31d4b36_3ced_11ec_8970_0242ac1c0002row5_col2\" class=\"data row5 col2\" >0.080219</td>\n",
              "                        <td id=\"T_a31d4b36_3ced_11ec_8970_0242ac1c0002row5_col3\" class=\"data row5 col3\" >-0.006537</td>\n",
              "                        <td id=\"T_a31d4b36_3ced_11ec_8970_0242ac1c0002row5_col4\" class=\"data row5 col4\" >0.024180</td>\n",
              "                        <td id=\"T_a31d4b36_3ced_11ec_8970_0242ac1c0002row5_col5\" class=\"data row5 col5\" >1.000000</td>\n",
              "                        <td id=\"T_a31d4b36_3ced_11ec_8970_0242ac1c0002row5_col6\" class=\"data row5 col6\" >-0.155071</td>\n",
              "                        <td id=\"T_a31d4b36_3ced_11ec_8970_0242ac1c0002row5_col7\" class=\"data row5 col7\" >-0.030946</td>\n",
              "                        <td id=\"T_a31d4b36_3ced_11ec_8970_0242ac1c0002row5_col8\" class=\"data row5 col8\" >-0.012598</td>\n",
              "            </tr>\n",
              "            <tr>\n",
              "                        <th id=\"T_a31d4b36_3ced_11ec_8970_0242ac1c0002level0_row6\" class=\"row_heading level0 row6\" >LATITUDE</th>\n",
              "                        <td id=\"T_a31d4b36_3ced_11ec_8970_0242ac1c0002row6_col0\" class=\"data row6 col0\" >-0.000345</td>\n",
              "                        <td id=\"T_a31d4b36_3ced_11ec_8970_0242ac1c0002row6_col1\" class=\"data row6 col1\" >-0.065036</td>\n",
              "                        <td id=\"T_a31d4b36_3ced_11ec_8970_0242ac1c0002row6_col2\" class=\"data row6 col2\" >0.048627</td>\n",
              "                        <td id=\"T_a31d4b36_3ced_11ec_8970_0242ac1c0002row6_col3\" class=\"data row6 col3\" >0.000345</td>\n",
              "                        <td id=\"T_a31d4b36_3ced_11ec_8970_0242ac1c0002row6_col4\" class=\"data row6 col4\" >0.014811</td>\n",
              "                        <td id=\"T_a31d4b36_3ced_11ec_8970_0242ac1c0002row6_col5\" class=\"data row6 col5\" >-0.155071</td>\n",
              "                        <td id=\"T_a31d4b36_3ced_11ec_8970_0242ac1c0002row6_col6\" class=\"data row6 col6\" >1.000000</td>\n",
              "                        <td id=\"T_a31d4b36_3ced_11ec_8970_0242ac1c0002row6_col7\" class=\"data row6 col7\" >-0.017335</td>\n",
              "                        <td id=\"T_a31d4b36_3ced_11ec_8970_0242ac1c0002row6_col8\" class=\"data row6 col8\" >0.000804</td>\n",
              "            </tr>\n",
              "            <tr>\n",
              "                        <th id=\"T_a31d4b36_3ced_11ec_8970_0242ac1c0002level0_row7\" class=\"row_heading level0 row7\" >TARGET</th>\n",
              "                        <td id=\"T_a31d4b36_3ced_11ec_8970_0242ac1c0002row7_col0\" class=\"data row7 col0\" >0.055498</td>\n",
              "                        <td id=\"T_a31d4b36_3ced_11ec_8970_0242ac1c0002row7_col1\" class=\"data row7 col1\" >0.067831</td>\n",
              "                        <td id=\"T_a31d4b36_3ced_11ec_8970_0242ac1c0002row7_col2\" class=\"data row7 col2\" >0.115882</td>\n",
              "                        <td id=\"T_a31d4b36_3ced_11ec_8970_0242ac1c0002row7_col3\" class=\"data row7 col3\" >-0.055498</td>\n",
              "                        <td id=\"T_a31d4b36_3ced_11ec_8970_0242ac1c0002row7_col4\" class=\"data row7 col4\" >-0.207491</td>\n",
              "                        <td id=\"T_a31d4b36_3ced_11ec_8970_0242ac1c0002row7_col5\" class=\"data row7 col5\" >-0.030946</td>\n",
              "                        <td id=\"T_a31d4b36_3ced_11ec_8970_0242ac1c0002row7_col6\" class=\"data row7 col6\" >-0.017335</td>\n",
              "                        <td id=\"T_a31d4b36_3ced_11ec_8970_0242ac1c0002row7_col7\" class=\"data row7 col7\" >1.000000</td>\n",
              "                        <td id=\"T_a31d4b36_3ced_11ec_8970_0242ac1c0002row7_col8\" class=\"data row7 col8\" >0.402761</td>\n",
              "            </tr>\n",
              "            <tr>\n",
              "                        <th id=\"T_a31d4b36_3ced_11ec_8970_0242ac1c0002level0_row8\" class=\"row_heading level0 row8\" >SQUARE_METERES</th>\n",
              "                        <td id=\"T_a31d4b36_3ced_11ec_8970_0242ac1c0002row8_col0\" class=\"data row8 col0\" >-0.004205</td>\n",
              "                        <td id=\"T_a31d4b36_3ced_11ec_8970_0242ac1c0002row8_col1\" class=\"data row8 col1\" >-0.006233</td>\n",
              "                        <td id=\"T_a31d4b36_3ced_11ec_8970_0242ac1c0002row8_col2\" class=\"data row8 col2\" >0.005736</td>\n",
              "                        <td id=\"T_a31d4b36_3ced_11ec_8970_0242ac1c0002row8_col3\" class=\"data row8 col3\" >0.004205</td>\n",
              "                        <td id=\"T_a31d4b36_3ced_11ec_8970_0242ac1c0002row8_col4\" class=\"data row8 col4\" >0.001733</td>\n",
              "                        <td id=\"T_a31d4b36_3ced_11ec_8970_0242ac1c0002row8_col5\" class=\"data row8 col5\" >-0.012598</td>\n",
              "                        <td id=\"T_a31d4b36_3ced_11ec_8970_0242ac1c0002row8_col6\" class=\"data row8 col6\" >0.000804</td>\n",
              "                        <td id=\"T_a31d4b36_3ced_11ec_8970_0242ac1c0002row8_col7\" class=\"data row8 col7\" >0.402761</td>\n",
              "                        <td id=\"T_a31d4b36_3ced_11ec_8970_0242ac1c0002row8_col8\" class=\"data row8 col8\" >1.000000</td>\n",
              "            </tr>\n",
              "    </tbody></table>"
            ],
            "text/plain": [
              "<pandas.io.formats.style.Styler at 0x7f6a5028cb50>"
            ]
          },
          "metadata": {},
          "execution_count": 15
        }
      ]
    },
    {
      "cell_type": "code",
      "metadata": {
        "colab": {
          "base_uri": "https://localhost:8080/",
          "height": 723
        },
        "id": "pDgWdINPCFt-",
        "outputId": "97c1d214-30da-41ea-9514-0d83f0bf5bd7"
      },
      "source": [
        "plt.figure(figsize= (10, 10))\n",
        "sns.heatmap(corr)"
      ],
      "execution_count": null,
      "outputs": [
        {
          "output_type": "execute_result",
          "data": {
            "text/plain": [
              "<matplotlib.axes._subplots.AxesSubplot at 0x7f6a4d722d50>"
            ]
          },
          "metadata": {},
          "execution_count": 16
        },
        {
          "output_type": "display_data",
          "data": {
            "image/png": "[encoded data removed]",
            "text/plain": [
              "<Figure size 720x720 with 2 Axes>"
            ]
          },
          "metadata": {
            "needs_background": "light"
          }
        }
      ]
    },
    {
      "cell_type": "markdown",
      "metadata": {
        "id": "siv72-e3r4DL"
      },
      "source": [
        "eliminamos las columnas que no nos interesan"
      ]
    },
    {
      "cell_type": "code",
      "metadata": {
        "colab": {
          "base_uri": "https://localhost:8080/",
          "height": 204
        },
        "id": "mLcesPPv-3r2",
        "outputId": "6762e867-161f-46f2-953d-eb5e68ad52e9"
      },
      "source": [
        "#considero que la latitud y longitud no nos aportan gran valor al dataset asi que las eliminare\n",
        "df = df.drop(columns= [\"LONGITUDE\", \"LATITUDE\", \"ADDRESS\"])\n",
        "df.head()"
      ],
      "execution_count": null,
      "outputs": [
        {
          "output_type": "execute_result",
          "data": {
            "text/html": [
              "<div>\n",
              "<style scoped>\n",
              "    .dataframe tbody tr th:only-of-type {\n",
              "        vertical-align: middle;\n",
              "    }\n",
              "\n",
              "    .dataframe tbody tr th {\n",
              "        vertical-align: top;\n",
              "    }\n",
              "\n",
              "    .dataframe thead th {\n",
              "        text-align: right;\n",
              "    }\n",
              "</style>\n",
              "<table border=\"1\" class=\"dataframe\">\n",
              "  <thead>\n",
              "    <tr style=\"text-align: right;\">\n",
              "      <th></th>\n",
              "      <th>POSTED_BY</th>\n",
              "      <th>UNDER_CONSTRUCTION</th>\n",
              "      <th>RERA</th>\n",
              "      <th>NUMBER_OF_ROOMS</th>\n",
              "      <th>TYPE_OF_PROPETY</th>\n",
              "      <th>READY_TO_MOVE</th>\n",
              "      <th>RESALE</th>\n",
              "      <th>TARGET</th>\n",
              "      <th>SQUARE_METERES</th>\n",
              "    </tr>\n",
              "  </thead>\n",
              "  <tbody>\n",
              "    <tr>\n",
              "      <th>0</th>\n",
              "      <td>Owner</td>\n",
              "      <td>0</td>\n",
              "      <td>0</td>\n",
              "      <td>2</td>\n",
              "      <td>BHK</td>\n",
              "      <td>1</td>\n",
              "      <td>1</td>\n",
              "      <td>55.0</td>\n",
              "      <td>120.794910</td>\n",
              "    </tr>\n",
              "    <tr>\n",
              "      <th>1</th>\n",
              "      <td>Dealer</td>\n",
              "      <td>0</td>\n",
              "      <td>0</td>\n",
              "      <td>2</td>\n",
              "      <td>BHK</td>\n",
              "      <td>1</td>\n",
              "      <td>1</td>\n",
              "      <td>51.0</td>\n",
              "      <td>118.450390</td>\n",
              "    </tr>\n",
              "    <tr>\n",
              "      <th>2</th>\n",
              "      <td>Owner</td>\n",
              "      <td>0</td>\n",
              "      <td>0</td>\n",
              "      <td>2</td>\n",
              "      <td>BHK</td>\n",
              "      <td>1</td>\n",
              "      <td>1</td>\n",
              "      <td>43.0</td>\n",
              "      <td>86.692653</td>\n",
              "    </tr>\n",
              "    <tr>\n",
              "      <th>3</th>\n",
              "      <td>Owner</td>\n",
              "      <td>0</td>\n",
              "      <td>1</td>\n",
              "      <td>2</td>\n",
              "      <td>BHK</td>\n",
              "      <td>1</td>\n",
              "      <td>1</td>\n",
              "      <td>62.5</td>\n",
              "      <td>86.391782</td>\n",
              "    </tr>\n",
              "    <tr>\n",
              "      <th>4</th>\n",
              "      <td>Dealer</td>\n",
              "      <td>1</td>\n",
              "      <td>0</td>\n",
              "      <td>2</td>\n",
              "      <td>BHK</td>\n",
              "      <td>0</td>\n",
              "      <td>1</td>\n",
              "      <td>60.5</td>\n",
              "      <td>92.810224</td>\n",
              "    </tr>\n",
              "  </tbody>\n",
              "</table>\n",
              "</div>"
            ],
            "text/plain": [
              "  POSTED_BY  UNDER_CONSTRUCTION  RERA  ...  RESALE TARGET  SQUARE_METERES\n",
              "0     Owner                   0     0  ...       1   55.0      120.794910\n",
              "1    Dealer                   0     0  ...       1   51.0      118.450390\n",
              "2     Owner                   0     0  ...       1   43.0       86.692653\n",
              "3     Owner                   0     1  ...       1   62.5       86.391782\n",
              "4    Dealer                   1     0  ...       1   60.5       92.810224\n",
              "\n",
              "[5 rows x 9 columns]"
            ]
          },
          "metadata": {},
          "execution_count": 17
        }
      ]
    },
    {
      "cell_type": "code",
      "metadata": {
        "id": "nfH7qbNY_FX3"
      },
      "source": [
        "#esto sirve para que las variables categoricas se conviertan en numeros\n",
        "df = pd.get_dummies(df, columns=['POSTED_BY', 'TYPE_OF_PROPETY'])# \"ADDRESS\" \n",
        "df = df.astype(\"float32\")"
      ],
      "execution_count": null,
      "outputs": []
    },
    {
      "cell_type": "code",
      "metadata": {
        "colab": {
          "base_uri": "https://localhost:8080/",
          "height": 224
        },
        "id": "uS5zponmKBSa",
        "outputId": "0ca6aaaf-393b-4706-e4e2-88ad8f8051b4"
      },
      "source": [
        "df.head()"
      ],
      "execution_count": null,
      "outputs": [
        {
          "output_type": "execute_result",
          "data": {
            "text/html": [
              "<div>\n",
              "<style scoped>\n",
              "    .dataframe tbody tr th:only-of-type {\n",
              "        vertical-align: middle;\n",
              "    }\n",
              "\n",
              "    .dataframe tbody tr th {\n",
              "        vertical-align: top;\n",
              "    }\n",
              "\n",
              "    .dataframe thead th {\n",
              "        text-align: right;\n",
              "    }\n",
              "</style>\n",
              "<table border=\"1\" class=\"dataframe\">\n",
              "  <thead>\n",
              "    <tr style=\"text-align: right;\">\n",
              "      <th></th>\n",
              "      <th>UNDER_CONSTRUCTION</th>\n",
              "      <th>RERA</th>\n",
              "      <th>NUMBER_OF_ROOMS</th>\n",
              "      <th>READY_TO_MOVE</th>\n",
              "      <th>RESALE</th>\n",
              "      <th>TARGET</th>\n",
              "      <th>SQUARE_METERES</th>\n",
              "      <th>POSTED_BY_Builder</th>\n",
              "      <th>POSTED_BY_Dealer</th>\n",
              "      <th>POSTED_BY_Owner</th>\n",
              "      <th>TYPE_OF_PROPETY_BHK</th>\n",
              "      <th>TYPE_OF_PROPETY_RK</th>\n",
              "    </tr>\n",
              "  </thead>\n",
              "  <tbody>\n",
              "    <tr>\n",
              "      <th>0</th>\n",
              "      <td>0.0</td>\n",
              "      <td>0.0</td>\n",
              "      <td>2.0</td>\n",
              "      <td>1.0</td>\n",
              "      <td>1.0</td>\n",
              "      <td>55.0</td>\n",
              "      <td>120.794907</td>\n",
              "      <td>0.0</td>\n",
              "      <td>0.0</td>\n",
              "      <td>1.0</td>\n",
              "      <td>1.0</td>\n",
              "      <td>0.0</td>\n",
              "    </tr>\n",
              "    <tr>\n",
              "      <th>1</th>\n",
              "      <td>0.0</td>\n",
              "      <td>0.0</td>\n",
              "      <td>2.0</td>\n",
              "      <td>1.0</td>\n",
              "      <td>1.0</td>\n",
              "      <td>51.0</td>\n",
              "      <td>118.450394</td>\n",
              "      <td>0.0</td>\n",
              "      <td>1.0</td>\n",
              "      <td>0.0</td>\n",
              "      <td>1.0</td>\n",
              "      <td>0.0</td>\n",
              "    </tr>\n",
              "    <tr>\n",
              "      <th>2</th>\n",
              "      <td>0.0</td>\n",
              "      <td>0.0</td>\n",
              "      <td>2.0</td>\n",
              "      <td>1.0</td>\n",
              "      <td>1.0</td>\n",
              "      <td>43.0</td>\n",
              "      <td>86.692650</td>\n",
              "      <td>0.0</td>\n",
              "      <td>0.0</td>\n",
              "      <td>1.0</td>\n",
              "      <td>1.0</td>\n",
              "      <td>0.0</td>\n",
              "    </tr>\n",
              "    <tr>\n",
              "      <th>3</th>\n",
              "      <td>0.0</td>\n",
              "      <td>1.0</td>\n",
              "      <td>2.0</td>\n",
              "      <td>1.0</td>\n",
              "      <td>1.0</td>\n",
              "      <td>62.5</td>\n",
              "      <td>86.391785</td>\n",
              "      <td>0.0</td>\n",
              "      <td>0.0</td>\n",
              "      <td>1.0</td>\n",
              "      <td>1.0</td>\n",
              "      <td>0.0</td>\n",
              "    </tr>\n",
              "    <tr>\n",
              "      <th>4</th>\n",
              "      <td>1.0</td>\n",
              "      <td>0.0</td>\n",
              "      <td>2.0</td>\n",
              "      <td>0.0</td>\n",
              "      <td>1.0</td>\n",
              "      <td>60.5</td>\n",
              "      <td>92.810226</td>\n",
              "      <td>0.0</td>\n",
              "      <td>1.0</td>\n",
              "      <td>0.0</td>\n",
              "      <td>1.0</td>\n",
              "      <td>0.0</td>\n",
              "    </tr>\n",
              "  </tbody>\n",
              "</table>\n",
              "</div>"
            ],
            "text/plain": [
              "   UNDER_CONSTRUCTION  RERA  ...  TYPE_OF_PROPETY_BHK  TYPE_OF_PROPETY_RK\n",
              "0                 0.0   0.0  ...                  1.0                 0.0\n",
              "1                 0.0   0.0  ...                  1.0                 0.0\n",
              "2                 0.0   0.0  ...                  1.0                 0.0\n",
              "3                 0.0   1.0  ...                  1.0                 0.0\n",
              "4                 1.0   0.0  ...                  1.0                 0.0\n",
              "\n",
              "[5 rows x 12 columns]"
            ]
          },
          "metadata": {},
          "execution_count": 19
        }
      ]
    },
    {
      "cell_type": "markdown",
      "metadata": {
        "id": "oHJRou-gKs9I"
      },
      "source": [
        "model"
      ]
    },
    {
      "cell_type": "code",
      "metadata": {
        "colab": {
          "base_uri": "https://localhost:8080/"
        },
        "id": "OrQwF6AULWdz",
        "outputId": "1280ba17-b061-43e1-88ee-4b24bda93eb4"
      },
      "source": [
        "x = df.drop(columns= [\"TARGET\"]).values\n",
        "y = df[\"TARGET\"].values\n",
        "x.astype(\"float32\")\n",
        "y.reshape(-1,1).astype(\"float32\")\n",
        "print(\"el shape de x es de: \", x.shape)\n",
        "print(\"el shape de y es de: \", y.shape)"
      ],
      "execution_count": null,
      "outputs": [
        {
          "output_type": "stream",
          "name": "stdout",
          "text": [
            "el shape de x es de:  (29430, 11)\n",
            "el shape de y es de:  (29430,)\n"
          ]
        }
      ]
    },
    {
      "cell_type": "code",
      "metadata": {
        "colab": {
          "base_uri": "https://localhost:8080/"
        },
        "id": "ILHdvu5BLVgl",
        "outputId": "9ecc6d40-e816-47d9-885f-fed27057777d"
      },
      "source": [
        "from sklearn.model_selection import train_test_split\n",
        "X_train, X_test, y_train, y_test = train_test_split(x, y, test_size = 0.2, random_state = 0)\n",
        "print(\"esta es la cantidad de x para entrenamiento: \", len(X_train))\n",
        "print(\"esta es la cantidad de y para entrenamiento: \", len(y_train))\n",
        "print(\"esta es la cantidad de x para prueba: \", len(X_test))\n",
        "print(\"esta es la cantidad de y para prueba: \", len(y_test))"
      ],
      "execution_count": null,
      "outputs": [
        {
          "output_type": "stream",
          "name": "stdout",
          "text": [
            "esta es la cantidad de x para entrenamiento:  23544\n",
            "esta es la cantidad de y para entrenamiento:  23544\n",
            "esta es la cantidad de x para prueba:  5886\n",
            "esta es la cantidad de y para prueba:  5886\n"
          ]
        }
      ]
    },
    {
      "cell_type": "code",
      "metadata": {
        "colab": {
          "base_uri": "https://localhost:8080/"
        },
        "id": "gAZMdBAoK_Ue",
        "outputId": "9e44f357-9c67-46c1-8b8a-c3f0db4f6469"
      },
      "source": [
        "from sklearn.tree import DecisionTreeRegressor\n",
        "dtr = DecisionTreeRegressor().fit(X_train,y_train)\n",
        "print(dtr.score(X_train, y_train))"
      ],
      "execution_count": null,
      "outputs": [
        {
          "output_type": "stream",
          "name": "stdout",
          "text": [
            "0.9949063535975661\n"
          ]
        }
      ]
    },
    {
      "cell_type": "code",
      "metadata": {
        "colab": {
          "base_uri": "https://localhost:8080/"
        },
        "id": "pJIn5q-0i2gu",
        "outputId": "7e59b437-ad1c-4d2b-8f86-2da2c61b686a"
      },
      "source": [
        "import numpy as np\n",
        "y_pred =dtr.predict(X_test)\n",
        "y_pred = np.array(y_pred).astype(\"float32\")\n",
        "print(\"esta es el resultado de las primeras 10 predicciones: \", y_pred[:10])\n",
        "print(\"esta es el resultado de las primeras 10 verdaderas: \", y_test[:10])\n"
      ],
      "execution_count": null,
      "outputs": [
        {
          "output_type": "stream",
          "name": "stdout",
          "text": [
            "esta es el resultado de las primeras 10 predicciones:  [  9.5       49.       850.        34.        25.       110.\n",
            "  80.3625   190.        25.777779  45.3     ]\n",
            "esta es el resultado de las primeras 10 verdaderas:  [  9.5  32.8 100.   29.   65.2  66.   40.8 190.   16.   45.3]\n"
          ]
        }
      ]
    }
  ]
}